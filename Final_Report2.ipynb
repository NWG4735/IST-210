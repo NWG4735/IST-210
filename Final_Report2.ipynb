{
  "nbformat": 4,
  "nbformat_minor": 0,
  "metadata": {
    "colab": {
      "name": "Final Report.ipynb",
      "provenance": [],
      "collapsed_sections": [],
      "include_colab_link": true
    },
    "kernelspec": {
      "name": "python3",
      "display_name": "Python 3"
    }
  },
  "cells": [
    {
      "cell_type": "markdown",
      "metadata": {
        "id": "view-in-github",
        "colab_type": "text"
      },
      "source": [
        "<a href=\"https://colab.research.google.com/github/NWG4735/IST-210/blob/master/Final_Report2.ipynb\" target=\"_parent\"><img src=\"https://colab.research.google.com/assets/colab-badge.svg\" alt=\"Open In Colab\"/></a>"
      ]
    },
    {
      "cell_type": "markdown",
      "metadata": {
        "id": "ii76U4KUYavr"
      },
      "source": [
        "### Introduction"
      ]
    },
    {
      "cell_type": "markdown",
      "metadata": {
        "id": "QXvfdwssZ35z"
      },
      "source": [
        "Our group chose to make our project based off of a hypothetical bar/ restaurant in state college. We chose our entities based off of the information that we considered to be the most valuable. It took many iterations of adding and fixing the project to arrive here."
      ]
    },
    {
      "cell_type": "markdown",
      "metadata": {
        "id": "CREEI2DafiPB"
      },
      "source": [
        "![ER Diagram](https://raw.githubusercontent.com/NWG4735/IST-210/master/Images/Group%20Project%202(updated).png)"
      ]
    },
    {
      "cell_type": "markdown",
      "metadata": {
        "id": "kK03CYlWfsoi"
      },
      "source": [
        "### Specifics of ER Diagram:"
      ]
    },
    {
      "cell_type": "markdown",
      "metadata": {
        "id": "2ml59kGOf3GS"
      },
      "source": [
        "We created the database in SQL using the sqlite command. Our tables were created by using DDL, in which we created tables and listed the entities using the three attribute types of integer, real and text. Once our required tables were created, we then inserted them using DML and the INERT INTO command, in which we followed the layout of our created tables and inserted either text or numbers to the appropriate entities. "
      ]
    },
    {
      "cell_type": "markdown",
      "metadata": {
        "id": "CZFLoZywbfAy"
      },
      "source": [
        "### Would this be valid in 2nd Normal Form?"
      ]
    },
    {
      "cell_type": "markdown",
      "metadata": {
        "id": "NYqorQPmb6DU"
      },
      "source": [
        "Our ER diagram would be valid in second normal form because it follows first normal form. It also follows second normal form because all the attributes are split into where information would not be lost if an attribute was deleted. For example, if the date of birth was deleted from STAFF, it would not affect the other keys in the diagram. "
      ]
    },
    {
      "cell_type": "markdown",
      "metadata": {
        "id": "Ex32CVZwcB0e"
      },
      "source": [
        "### Would this be valid in 3rd Normal Form?"
      ]
    },
    {
      "cell_type": "markdown",
      "metadata": {
        "id": "SCMyD6RBcFrd"
      },
      "source": [
        "Our ER diagram would work in third normal form as well because it follow first and second normal form . All the attributes have their own table along with their own information. To be in third normal form, the attribute ID has to be the identification key. For example, to identify the drink menu, you would use the drinkMenuID."
      ]
    },
    {
      "cell_type": "markdown",
      "metadata": {
        "id": "hK9iLHeKcIQO"
      },
      "source": [
        "### Would this be valid in Boyce-Codd Normal Form?"
      ]
    },
    {
      "cell_type": "markdown",
      "metadata": {
        "id": "kXy62NGLcdr9"
      },
      "source": [
        "Although our ER diagram works in first, second, and third normal form, it does not make the cut for Boyce Codd form. To be in Boyce Codd, candidate keys can only depend on a single attribute. In our diagram, staff is located in almost all of our attributes and depends on most of those attributes as well. "
      ]
    },
    {
      "cell_type": "markdown",
      "metadata": {
        "id": "-D2qEeZjdGIR"
      },
      "source": [
        "### How was the database, table, and table data created and inserted?"
      ]
    },
    {
      "cell_type": "markdown",
      "metadata": {
        "id": "16qSihD-db4w"
      },
      "source": [
        "We created the database in SQL using the sqlite command. Our tables were created by using DDL, in which we created tables and listed the entities using the three attribute types of integer, real and text. Once our required tables were created, we then inserted them using DML and the INERT INTO command, in which we followed the layout of our created tables and inserted either text or numbers to the appropriate entities. "
      ]
    },
    {
      "cell_type": "code",
      "metadata": {
        "id": "QqlyzOwWQBjk"
      },
      "source": [
        "%load_ext sql"
      ],
      "execution_count": 1,
      "outputs": []
    },
    {
      "cell_type": "markdown",
      "metadata": {
        "id": "0_kDCRt-fGtq"
      },
      "source": [
        "Nick: Add image of ER diagram, discuss specifics on the ER diagram, discuss how tables were created and how data was inserted, add section headers"
      ]
    },
    {
      "cell_type": "code",
      "metadata": {
        "id": "NzTdcTkaQu3Q",
        "colab": {
          "base_uri": "https://localhost:8080/",
          "height": 35
        },
        "outputId": "e44ae646-c0d0-450d-b16f-ad878391bd15"
      },
      "source": [
        "%sql sqlite:///GroupMilestone3.db"
      ],
      "execution_count": 2,
      "outputs": [
        {
          "output_type": "execute_result",
          "data": {
            "application/vnd.google.colaboratory.intrinsic+json": {
              "type": "string"
            },
            "text/plain": [
              "'Connected: @GroupMilestone3.db'"
            ]
          },
          "metadata": {
            "tags": []
          },
          "execution_count": 2
        }
      ]
    },
    {
      "cell_type": "code",
      "metadata": {
        "id": "y3DMdNjnSoy5",
        "colab": {
          "base_uri": "https://localhost:8080/"
        },
        "outputId": "4ea1a8f1-a1cc-4cb2-c4e8-4e472a8a6855"
      },
      "source": [
        "%%sql\n",
        "CREATE TABLE Staff(SSN text primary key, firstName text, lastName text, dobDay text, dobMonth text, dobYear real);\n",
        "CREATE TABLE drinkMenu(drinkMenuID text primary key, price real, popularity real, staff text, seasonal text);\n",
        "CREATE TABLE physicalLocation(addressZIP real primary key, staff text, occupancy real, menu text);\n",
        "CREATE TABLE foodMenu(foodMenuID text primary key, price real, popularity real, seasonal text, staff text);\n",
        "CREATE TABLE Reviews(reviewID text primary key, staff text, frequency real, customer text);"
      ],
      "execution_count": 3,
      "outputs": [
        {
          "output_type": "stream",
          "text": [
            " * sqlite:///GroupMilestone3.db\n",
            "Done.\n",
            "Done.\n",
            "Done.\n",
            "Done.\n",
            "Done.\n"
          ],
          "name": "stdout"
        },
        {
          "output_type": "execute_result",
          "data": {
            "text/plain": [
              "[]"
            ]
          },
          "metadata": {
            "tags": []
          },
          "execution_count": 3
        }
      ]
    },
    {
      "cell_type": "code",
      "metadata": {
        "colab": {
          "base_uri": "https://localhost:8080/"
        },
        "id": "5QGcLsaBbfdd",
        "outputId": "e9d5aa73-21cc-4b6e-97f7-8da99f278b52"
      },
      "source": [
        "%%sql\n",
        "INSERT INTO drinkMenu VALUES('budlite', 3.50, 5, 'bartender', 'no');\n",
        "INSERT INTO drinkMenu VALUES('miller lite', 4.00, 7, 'bartender', 'no');\n",
        "INSERT INTO drinkMenu VALUES('coke', 2.00, 9, 'bartender', 'no');\n",
        "INSERT INTO drinkMenu VALUES('hot chocolate', 3.00, 6, 'bartender', 'yes');\n",
        "INSERT INTO drinkMenu VALUES('water', 0, 10, 'bartender', 'no');"
      ],
      "execution_count": 4,
      "outputs": [
        {
          "output_type": "stream",
          "text": [
            " * sqlite:///GroupMilestone3.db\n",
            "1 rows affected.\n",
            "1 rows affected.\n",
            "1 rows affected.\n",
            "1 rows affected.\n",
            "1 rows affected.\n"
          ],
          "name": "stdout"
        },
        {
          "output_type": "execute_result",
          "data": {
            "text/plain": [
              "[]"
            ]
          },
          "metadata": {
            "tags": []
          },
          "execution_count": 4
        }
      ]
    },
    {
      "cell_type": "markdown",
      "metadata": {
        "id": "D5AFeFsYdwjC"
      },
      "source": [
        "### Scenario:"
      ]
    },
    {
      "cell_type": "markdown",
      "metadata": {
        "id": "JvTRJT7fdze-"
      },
      "source": [
        "An average user would likely be either the owner of the restaurant or an employee of the restaurant. They could use our database to understand what products are performing well and which are not. This information would then assist them to be more efficient when purchasing products. They could also check how well the staff are doing by comparing the staff to reviews. This relationship could help the owner make decisions about promotions as well as if any staff are overall detrimental to the business."
      ]
    },
    {
      "cell_type": "markdown",
      "metadata": {
        "id": "7XRSOZ3Dc7wT"
      },
      "source": [
        "What are the top 3 most to least popular drinks?"
      ]
    },
    {
      "cell_type": "code",
      "metadata": {
        "id": "Cm6gKYpadCwa",
        "colab": {
          "base_uri": "https://localhost:8080/",
          "height": 137
        },
        "outputId": "d56350ba-6eba-46ec-8582-10f3df4f365e"
      },
      "source": [
        "%%sql\n",
        "SELECT drinkMenuID,popularity FROM drinkMenu ORDER BY popularity DESC limit 3;"
      ],
      "execution_count": 5,
      "outputs": [
        {
          "output_type": "stream",
          "text": [
            " * sqlite:///GroupMilestone3.db\n",
            "Done.\n"
          ],
          "name": "stdout"
        },
        {
          "output_type": "execute_result",
          "data": {
            "text/html": [
              "<table>\n",
              "    <thead>\n",
              "        <tr>\n",
              "            <th>drinkMenuID</th>\n",
              "            <th>popularity</th>\n",
              "        </tr>\n",
              "    </thead>\n",
              "    <tbody>\n",
              "        <tr>\n",
              "            <td>water</td>\n",
              "            <td>10.0</td>\n",
              "        </tr>\n",
              "        <tr>\n",
              "            <td>coke</td>\n",
              "            <td>9.0</td>\n",
              "        </tr>\n",
              "        <tr>\n",
              "            <td>miller lite</td>\n",
              "            <td>7.0</td>\n",
              "        </tr>\n",
              "    </tbody>\n",
              "</table>"
            ],
            "text/plain": [
              "[('water', 10.0), ('coke', 9.0), ('miller lite', 7.0)]"
            ]
          },
          "metadata": {
            "tags": []
          },
          "execution_count": 5
        }
      ]
    },
    {
      "cell_type": "markdown",
      "metadata": {
        "id": "hSH8jtzOe2cG"
      },
      "source": [
        "Which drinks are seasonal?"
      ]
    },
    {
      "cell_type": "code",
      "metadata": {
        "colab": {
          "base_uri": "https://localhost:8080/",
          "height": 95
        },
        "id": "ipf0nna_e5fi",
        "outputId": "c552f655-5513-46b1-9232-cf15b8e2f7a3"
      },
      "source": [
        "%%sql\n",
        "SELECT drinkMenuID,seasonal FROM drinkMenu WHERE seasonal = 'yes';"
      ],
      "execution_count": 6,
      "outputs": [
        {
          "output_type": "stream",
          "text": [
            " * sqlite:///GroupMilestone3.db\n",
            "Done.\n"
          ],
          "name": "stdout"
        },
        {
          "output_type": "execute_result",
          "data": {
            "text/html": [
              "<table>\n",
              "    <thead>\n",
              "        <tr>\n",
              "            <th>drinkMenuID</th>\n",
              "            <th>seasonal</th>\n",
              "        </tr>\n",
              "    </thead>\n",
              "    <tbody>\n",
              "        <tr>\n",
              "            <td>hot chocolate</td>\n",
              "            <td>yes</td>\n",
              "        </tr>\n",
              "    </tbody>\n",
              "</table>"
            ],
            "text/plain": [
              "[('hot chocolate', 'yes')]"
            ]
          },
          "metadata": {
            "tags": []
          },
          "execution_count": 6
        }
      ]
    },
    {
      "cell_type": "markdown",
      "metadata": {
        "id": "Wf56_0KKiJTH"
      },
      "source": [
        "What are the top 3 most expensive drinks?"
      ]
    },
    {
      "cell_type": "code",
      "metadata": {
        "colab": {
          "base_uri": "https://localhost:8080/",
          "height": 137
        },
        "id": "l8lbFk44iMhN",
        "outputId": "57130038-9f59-46fc-9cd2-2d34461a8c35"
      },
      "source": [
        "%%sql\n",
        "SELECT drinkMenuID, price FROM drinkMenu ORDER BY price DESC limit 3;"
      ],
      "execution_count": 7,
      "outputs": [
        {
          "output_type": "stream",
          "text": [
            " * sqlite:///GroupMilestone3.db\n",
            "Done.\n"
          ],
          "name": "stdout"
        },
        {
          "output_type": "execute_result",
          "data": {
            "text/html": [
              "<table>\n",
              "    <thead>\n",
              "        <tr>\n",
              "            <th>drinkMenuID</th>\n",
              "            <th>price</th>\n",
              "        </tr>\n",
              "    </thead>\n",
              "    <tbody>\n",
              "        <tr>\n",
              "            <td>miller lite</td>\n",
              "            <td>4.0</td>\n",
              "        </tr>\n",
              "        <tr>\n",
              "            <td>budlite</td>\n",
              "            <td>3.5</td>\n",
              "        </tr>\n",
              "        <tr>\n",
              "            <td>hot chocolate</td>\n",
              "            <td>3.0</td>\n",
              "        </tr>\n",
              "    </tbody>\n",
              "</table>"
            ],
            "text/plain": [
              "[('miller lite', 4.0), ('budlite', 3.5), ('hot chocolate', 3.0)]"
            ]
          },
          "metadata": {
            "tags": []
          },
          "execution_count": 7
        }
      ]
    }
  ]
}