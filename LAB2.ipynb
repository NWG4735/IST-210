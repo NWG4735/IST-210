{
  "nbformat": 4,
  "nbformat_minor": 0,
  "metadata": {
    "colab": {
      "name": "Untitled1.ipynb",
      "provenance": [],
      "authorship_tag": "ABX9TyM1RIGYiDffHJLh5r0oXTp7",
      "include_colab_link": true
    },
    "kernelspec": {
      "name": "python3",
      "display_name": "Python 3"
    }
  },
  "cells": [
    {
      "cell_type": "markdown",
      "metadata": {
        "id": "view-in-github",
        "colab_type": "text"
      },
      "source": [
        "<a href=\"https://colab.research.google.com/github/NWG4735/IST-210/blob/master/LAB2.ipynb\" target=\"_parent\"><img src=\"https://colab.research.google.com/assets/colab-badge.svg\" alt=\"Open In Colab\"/></a>"
      ]
    },
    {
      "cell_type": "markdown",
      "metadata": {
        "id": "CCogQ0Vwmw45"
      },
      "source": [
        "Description: The entities I used for this ER diagram are the pet shop, customers, the loyalty program, food, employees, and the animals. The pet shop is connected to both the employees and the items sold in the shop. The customers are connected to the items they buy within the pet shop, as well as the loyalty program that the pet shop offers. The employees are connected to the items sold within the store, as well as the pet shop they work for. The connectivity and cardinality listed with each attribute within the entities show that most of the attributes are many to many, excluding the case of the employees selling the food and animals and the pet shop that sells the food and animals. "
      ]
    },
    {
      "cell_type": "markdown",
      "metadata": {
        "id": "slNLCOQfm1-f"
      },
      "source": [
        "![ER Diagram](https://raw.githubusercontent.com/NWG4735/IST-210/master/Images/New%20Lab2%20Diagram.png)"
      ]
    }
  ]
}