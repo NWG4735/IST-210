{
  "nbformat": 4,
  "nbformat_minor": 0,
  "metadata": {
    "colab": {
      "name": "Untitled2.ipynb",
      "provenance": [],
      "include_colab_link": true
    },
    "kernelspec": {
      "name": "python3",
      "display_name": "Python 3"
    }
  },
  "cells": [
    {
      "cell_type": "markdown",
      "metadata": {
        "id": "view-in-github",
        "colab_type": "text"
      },
      "source": [
        "<a href=\"https://colab.research.google.com/github/NWG4735/IST-210/blob/master/GroupProject2.ipynb\" target=\"_parent\"><img src=\"https://colab.research.google.com/assets/colab-badge.svg\" alt=\"Open In Colab\"/></a>"
      ]
    },
    {
      "cell_type": "markdown",
      "metadata": {
        "id": "p8UbWCssPj4D"
      },
      "source": [
        "  For our project we decided to do a restaurant/bar. This choice directly led to our choices for our five entity tables. Our first entity was Staff whose attributes include: First name, last name, and date of birth. We also have the physical location, drink menu, food menu, and reviews as our other tables. Their primary keys are address, drink menu id, food menu id, and review id. These primary keys when combined with the foreign keys and indivisible attributes make our ER diagram in the first normal form. \n",
        "  Connectivity and cardinality are both also very important in understanding the diagram. The most connected entities are reviews and location which are both tied at three. This makes sense as the physical location influences much of the menus as well as the staff and for reviews almost every aspect of the restaurant can sway a review positively or negatively. The connectivity is shown in crow's foot notation and all connections are labelled with a verb to explain the connection.\n"
      ]
    },
    {
      "cell_type": "markdown",
      "metadata": {
        "id": "MkCUxq9NQoOr"
      },
      "source": [
        "![ER DIagram 2](https://raw.githubusercontent.com/NWG4735/IST-210/master/Images/Group%20Project%202.png)"
      ]
    }
  ]
}