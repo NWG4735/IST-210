{
  "nbformat": 4,
  "nbformat_minor": 0,
  "metadata": {
    "colab": {
      "name": "Lab 1.ipynb",
      "provenance": [],
      "authorship_tag": "ABX9TyNJkY8bVrAYrWKfXsMOkGpa",
      "include_colab_link": true
    },
    "kernelspec": {
      "name": "python3",
      "display_name": "Python 3"
    }
  },
  "cells": [
    {
      "cell_type": "markdown",
      "metadata": {
        "id": "view-in-github",
        "colab_type": "text"
      },
      "source": [
        "<a href=\"https://colab.research.google.com/github/NWG4735/IST-210/blob/master/Lab_1.ipynb\" target=\"_parent\"><img src=\"https://colab.research.google.com/assets/colab-badge.svg\" alt=\"Open In Colab\"/></a>"
      ]
    },
    {
      "cell_type": "markdown",
      "metadata": {
        "id": "QBiyy3nWJ3_p",
        "colab_type": "text"
      },
      "source": [
        "# 1. Do you like using Jupyter Notebooks?"
      ]
    },
    {
      "cell_type": "markdown",
      "metadata": {
        "id": "2kGIeE1gKHYL",
        "colab_type": "text"
      },
      "source": [
        "### 1. I do like using Jupyter Notebooks beacuase of the convienence. While it may not be as easy to use as Microsoft Word is some aspects, I find there are other things like inserting coding that offer more capabilities."
      ]
    },
    {
      "cell_type": "markdown",
      "metadata": {
        "id": "b-PFYehlK5y6",
        "colab_type": "text"
      },
      "source": [
        "# 2. What do you want to learn more about in Jupyter Notebooks?"
      ]
    },
    {
      "cell_type": "markdown",
      "metadata": {
        "id": "V8Msd6SSLG1E",
        "colab_type": "text"
      },
      "source": [
        "### 2. Some things I want to learn more about is how to create things like graphs and charts from coding that I enter, like using **matplotlib** as shown in the tutorial for Colab. I am also interested to see how companies utilize Jupyter Notebooks, and some of the things they have done in order for their Notebooks to become more streamlined for the people who view it. "
      ]
    },
    {
      "cell_type": "markdown",
      "metadata": {
        "id": "tpsVOeuuRga2",
        "colab_type": "text"
      },
      "source": [
        "#### My Dog, Halsey"
      ]
    },
    {
      "cell_type": "markdown",
      "metadata": {
        "id": "qKRUOnmQRXRx",
        "colab_type": "text"
      },
      "source": [
        "![My Dog, Halsey](https://raw.githubusercontent.com/NWG4735/IST-210/master/Images/Yellow%20Lab.jpg)"
      ]
    }
  ]
}